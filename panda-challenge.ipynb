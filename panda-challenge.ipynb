{
 "cells": [
  {
   "cell_type": "markdown",
   "metadata": {},
   "source": [
    "### Note\n",
    "* Instructions have been included for each segment. You do not have to follow them exactly, but they are included to help you think through the steps."
   ]
  },
  {
   "cell_type": "code",
   "execution_count": 1,
   "metadata": {
    "scrolled": true
   },
   "outputs": [
    {
     "data": {
      "text/html": [
       "<div>\n",
       "<style scoped>\n",
       "    .dataframe tbody tr th:only-of-type {\n",
       "        vertical-align: middle;\n",
       "    }\n",
       "\n",
       "    .dataframe tbody tr th {\n",
       "        vertical-align: top;\n",
       "    }\n",
       "\n",
       "    .dataframe thead th {\n",
       "        text-align: right;\n",
       "    }\n",
       "</style>\n",
       "<table border=\"1\" class=\"dataframe\">\n",
       "  <thead>\n",
       "    <tr style=\"text-align: right;\">\n",
       "      <th></th>\n",
       "      <th>Purchase ID</th>\n",
       "      <th>SN</th>\n",
       "      <th>Age</th>\n",
       "      <th>Gender</th>\n",
       "      <th>Item ID</th>\n",
       "      <th>Item Name</th>\n",
       "      <th>Price</th>\n",
       "    </tr>\n",
       "  </thead>\n",
       "  <tbody>\n",
       "    <tr>\n",
       "      <th>0</th>\n",
       "      <td>0</td>\n",
       "      <td>Lisim78</td>\n",
       "      <td>20</td>\n",
       "      <td>Male</td>\n",
       "      <td>108</td>\n",
       "      <td>Extraction, Quickblade Of Trembling Hands</td>\n",
       "      <td>3.53</td>\n",
       "    </tr>\n",
       "    <tr>\n",
       "      <th>1</th>\n",
       "      <td>1</td>\n",
       "      <td>Lisovynya38</td>\n",
       "      <td>40</td>\n",
       "      <td>Male</td>\n",
       "      <td>143</td>\n",
       "      <td>Frenzied Scimitar</td>\n",
       "      <td>1.56</td>\n",
       "    </tr>\n",
       "    <tr>\n",
       "      <th>2</th>\n",
       "      <td>2</td>\n",
       "      <td>Ithergue48</td>\n",
       "      <td>24</td>\n",
       "      <td>Male</td>\n",
       "      <td>92</td>\n",
       "      <td>Final Critic</td>\n",
       "      <td>4.88</td>\n",
       "    </tr>\n",
       "    <tr>\n",
       "      <th>3</th>\n",
       "      <td>3</td>\n",
       "      <td>Chamassasya86</td>\n",
       "      <td>24</td>\n",
       "      <td>Male</td>\n",
       "      <td>100</td>\n",
       "      <td>Blindscythe</td>\n",
       "      <td>3.27</td>\n",
       "    </tr>\n",
       "    <tr>\n",
       "      <th>4</th>\n",
       "      <td>4</td>\n",
       "      <td>Iskosia90</td>\n",
       "      <td>23</td>\n",
       "      <td>Male</td>\n",
       "      <td>131</td>\n",
       "      <td>Fury</td>\n",
       "      <td>1.44</td>\n",
       "    </tr>\n",
       "  </tbody>\n",
       "</table>\n",
       "</div>"
      ],
      "text/plain": [
       "   Purchase ID             SN  Age Gender  Item ID  \\\n",
       "0            0        Lisim78   20   Male      108   \n",
       "1            1    Lisovynya38   40   Male      143   \n",
       "2            2     Ithergue48   24   Male       92   \n",
       "3            3  Chamassasya86   24   Male      100   \n",
       "4            4      Iskosia90   23   Male      131   \n",
       "\n",
       "                                   Item Name  Price  \n",
       "0  Extraction, Quickblade Of Trembling Hands   3.53  \n",
       "1                          Frenzied Scimitar   1.56  \n",
       "2                               Final Critic   4.88  \n",
       "3                                Blindscythe   3.27  \n",
       "4                                       Fury   1.44  "
      ]
     },
     "execution_count": 1,
     "metadata": {},
     "output_type": "execute_result"
    }
   ],
   "source": [
    "# Dependencies and Setup\n",
    "import pandas as pd\n",
    "import numpy as np\n",
    "\n",
    "# File to Load (Remember to Change These)\n",
    "file_to_load = \"Resources/purchase_data.csv\"\n",
    "\n",
    "# Read Purchasing File and store into Pandas data frame\n",
    "purchase_data_df = pd.read_csv(file_to_load)\n",
    "purchase_data_df.head()"
   ]
  },
  {
   "cell_type": "markdown",
   "metadata": {},
   "source": [
    "## Player Count"
   ]
  },
  {
   "cell_type": "markdown",
   "metadata": {},
   "source": [
    "* Display the total number of players\n"
   ]
  },
  {
   "cell_type": "code",
   "execution_count": 2,
   "metadata": {},
   "outputs": [
    {
     "data": {
      "text/plain": [
       "array(['Lisim78', 'Lisovynya38', 'Ithergue48', 'Chamassasya86',\n",
       "       'Iskosia90', 'Yalae81', 'Itheria73', 'Iskjaskst81', 'Undjask33',\n",
       "       'Chanosian48', 'Inguron55', 'Haisrisuir60', 'Saelaephos52',\n",
       "       'Assjaskan73', 'Saesrideu94', 'Lisassa64', 'Lisirra25',\n",
       "       'Zontibe81', 'Reunasu60', 'Chamalo71', 'Iathenudil29',\n",
       "       'Phiarithdeu40', 'Siarithria38', 'Eyrian71', 'Siala43',\n",
       "       'Lisirra87', 'Lirtossa84', 'Eusri44', 'Aela59', 'Tyida79',\n",
       "       'Idai61', 'Farusrian86', 'Aeralria27', 'Haillyrgue51', 'Sondim73',\n",
       "       'Jeyciman68', 'Idaisuir85', 'Seuthep89', 'Reulae52',\n",
       "       'Sondilsaya62', 'Aerithriaphos45', 'Assosia88', 'Aidaillodeu39',\n",
       "       'Aelly27', 'Tyeosri53', 'Haerith37', 'Yasrisu92', 'Chanuchi25',\n",
       "       'Asur96', 'Iaralrgue74', 'Chanosia34', 'Aelin32', 'Ilosianya35',\n",
       "       'Zhisrisu83', 'Phaelap26', 'Raesty92', 'Palyon91', 'Tyisur83',\n",
       "       'Yaliru88', 'Yadanu52', 'Jiskimya77', 'Yadaphos40', 'Alo38',\n",
       "       'Phaena87', 'Chamirraya83', 'Chanastsda67', 'Indonmol95',\n",
       "       'Jiskossa61', 'Pheodai94', 'Hari50', 'Marilsa69', 'Assistasda42',\n",
       "       'Lisosia93', 'Philodil43', 'Mindadaran26', 'Lirtosia63',\n",
       "       'Assjaskan56', 'Irithlis29', 'Heudai45', 'Haerithp41', 'Aina42',\n",
       "       'Jiskjask60', 'Umolrian85', 'Qarirwen82', 'Laedallo55',\n",
       "       'Eoralrap26', 'Undosian34', 'Chadolyla44', 'Chadistaya75',\n",
       "       'Yathedeu43', 'Aina43', 'Ilassast39', 'Lisassala98', 'Aiduecal76',\n",
       "       'Chadossa89', 'Pheodaisun84', 'Heollyriap59', 'Maropast28',\n",
       "       'Frichim77', 'Thryallym62', 'Eulanurin88', 'Lassjaskan73',\n",
       "       'Tyaerith73', 'Sondadarya58', 'Hirirap39', 'Ririp86', 'Sundim98',\n",
       "       'Iskichinya81', 'Phyali88', 'Undirrala66', 'Nitherian58',\n",
       "       'Lassilsala30', 'Frichaststa61', 'Frichosia58', 'Ilosia37',\n",
       "       'Lisista27', 'Seudaillorap38', 'Aesty53', 'Yathecal82',\n",
       "       'Lisossanya98', 'Iral74', 'Lisast87', 'Maridisya31', 'Jiskassa76',\n",
       "       'Ethriel85', 'Iskirra45', 'Iri67', 'Rarallo90', 'Lisasi93',\n",
       "       'Adastirin33', 'Eyista89', 'Ili43', 'Chamirra53', 'Hailaphos89',\n",
       "       'Iskadarya95', 'Qilatista90', 'Inasti31', 'Marilsanya48',\n",
       "       'Marjask87', 'Chanjaskan89', 'Hyaduesu61', 'Aillyrin83',\n",
       "       'Marast30', 'Sundadar27', 'Tyaelorap29', 'Lirtimst73',\n",
       "       'Styaduen40', 'Sidap51', 'Chanastst38', 'Lirtassa52', 'Sondim68',\n",
       "       'Aeral97', 'Heosurnuru52', 'Lisopela58', 'Caesrinusuir82',\n",
       "       'Tyirinu79', 'Fironon91', 'Lassjask63', 'Indcil77', 'Chamimla73',\n",
       "       'Syathe73', 'Baelollodeu94', 'Mindista32', 'Saena74',\n",
       "       'Marirrasta50', 'Lamil79', 'Aenarap34', 'Aisur51', 'Thrientossa55',\n",
       "       'Chadista79', 'Tyeurith29', 'Malunil62', 'Hiasri33', 'Lisadar44',\n",
       "       'Frichjask31', 'Lisjaskya84', 'Ristydru66', 'Frichast28',\n",
       "       'Minduri31', 'Maradaran90', 'Mindetosya30', 'Ialallo29',\n",
       "       'Pheusrical25', 'Chanosia60', 'Phistym51', 'Aelollo59',\n",
       "       'Chamimla85', 'Haisurra41', 'Sondastsda82', 'Qilanrion65',\n",
       "       'Eulasuir89', 'Eosrirgue62', 'Shaidanu32', 'Lirtastan49',\n",
       "       'Iaralsuir44', 'Tyeudariasuir90', 'Cosadar58', 'Aelastirin39',\n",
       "       'Aidai53', 'Jiskjask85', 'Ealrion88', 'Chamjask73', 'Tyaenasti87',\n",
       "       'Alim85', 'Haeladil46', 'Jiskirran77', 'Undosia27', 'Peorith44',\n",
       "       'Yarithsurgue62', 'Taeduenu92', 'Rairin89', 'Aerithriaphos46',\n",
       "       'Idairin51', 'Lisista54', 'Eodailis27', 'Lirtastsda29',\n",
       "       'Undilsan50', 'Eodaisu60', 'Quaranmol58', 'Lirtossa60',\n",
       "       'Lirtilsa71', 'Isursuir31', 'Sundirrala66', 'Saerallora71',\n",
       "       'Iasur80', 'Tyaelo67', 'Quanunwen42', 'Yasur35', 'Assehoan67',\n",
       "       'Haellysu29', 'Saida58', 'Chamadar79', 'Aeral43', 'Lirtirra37',\n",
       "       'Tyidaim51', 'Lassassast73', 'Assassasta79', 'Heollyra92',\n",
       "       'Anallorgue57', 'Aerithllora36', 'Smaistysu35', 'Ennalmol65',\n",
       "       'Yarithrgue83', 'Yana46', 'Sondimla25', 'Aidai61', 'Wailin72',\n",
       "       'Firan91', 'Alaesu91', 'Aellynun67', 'Rilaera56', 'Eulaestira36',\n",
       "       'Marim28', 'Idastidru52', 'Ilirrasda54', 'Alaephos75',\n",
       "       'Syalollorap93', 'Minduli80', 'Chanastya70', 'Frichadaran88',\n",
       "       'Siallylis44', 'Aeri84', 'Iasursti71', 'Mindilsa34', 'Chamastya76',\n",
       "       'Undirra73', 'Aestysu37', 'Chadadarla74', 'Strithenu87',\n",
       "       'Iasrira89', 'Ialidru40', 'Tyalaesu89', 'Tyidainu31', 'Lirtilsa72',\n",
       "       'Undjaskla97', 'Saedaiphos46', 'Aerithnucal56', 'Lisossa46',\n",
       "       'Layjask75', 'Lisista63', 'Ceoral34', 'Hilaerin92',\n",
       "       'Chadilsasta32', 'Undassa89', 'Iduenu77', 'Lisosia66',\n",
       "       'Undimsya85', 'Phaedue89', 'Yadacal26', 'Lisossa25', 'Ilmol66',\n",
       "       'Yastyriaphos75', 'Hiasurria41', 'Palatyon26', 'Qilalista41',\n",
       "       'Hada39', 'Chamilsala65', 'Rairith81', 'Ilarin91', 'Ryanara76',\n",
       "       'Undista85', 'Tyeoralru41', 'Pheosrinudeu70', 'Heuli25',\n",
       "       'Pheutherin27', 'Chadirra90', 'Ali84', 'Frichjaskan98', 'Malil90',\n",
       "       'Yarithllodeu72', 'Tyaedainu44', 'Ethron58', 'Eusurdeu49',\n",
       "       'Saistyphos30', 'Saisrilis27', 'Hallysucal81', 'Ilimya66',\n",
       "       'Raysistast71', 'Haedairiadru51', 'Tyananurgue44', 'Risty84',\n",
       "       'Aerillorin70', 'Phistyn52', 'Yalo85', 'Chamirrasya33', 'Hiral75',\n",
       "       'Isursti83', 'Bartassaya73', 'Aeda94', 'Quinarap53', 'Asur53',\n",
       "       'Alarap40', 'Sida61', 'Hiarideu73', 'Lassassasda30', 'Ennoncil86',\n",
       "       'Siralsudeu54', 'Eusri26', 'Ardcil81', 'Marilsasya33', 'Lirtim36',\n",
       "       'Heunadil74', 'Frichadar89', 'Aesurstilis64', 'Idaidil28',\n",
       "       'Lisotesta51', 'Lisico81', 'Lisiriya82', 'Siana77', 'Marokian45',\n",
       "       'Sausosia74', 'Assesi91', 'Eusri70', 'Aisurria69', 'Iarilis73',\n",
       "       'Raisty38', 'Ilista82', 'Leyirra83', 'Aiduesu86', 'Frichynde86',\n",
       "       'Hisridru55', 'Chamossa77', 'Irillo49', 'Lirtastsya71',\n",
       "       'Frichosiala98', 'Qilunan34', 'Quarrion42', 'Aisurdru79',\n",
       "       'Hiaral50', 'Iarallo65', 'Sondassasya91', 'Chanossast57',\n",
       "       'Chanjask65', 'Ethralista69', 'Sondistanya61', 'Eudanu32',\n",
       "       'Euthe35', 'Lassimla92', 'Lisossala30', 'Eulae84', 'Chamadarnya73',\n",
       "       'Eolan54', 'Assistasda90', 'Ennrian78', 'Undirrasta89',\n",
       "       'Rianistast50', 'Undare39', 'Adairialis76', 'Aesur96',\n",
       "       'Tyialisudeu65', 'Arirgue63', 'Sundadarla27', 'Eyircil84', 'Ina92',\n",
       "       'Lirtistanya48', 'Marassa62', 'Mindossa76', 'Salilis27',\n",
       "       'Sondossa69', 'Sundjask71', 'Errian63', 'Eurithphos97',\n",
       "       'Raillydeu47', 'Malon70', 'Jiskimsda56', 'Marughi89', 'Ingatcil75',\n",
       "       'Chanirrasta87', 'Alaesu77', 'Ermol76', 'Tyeuduen32', 'Firon67',\n",
       "       'Iadueria43', 'Pheulidil31', 'Eodairu79', 'Frichocesta66',\n",
       "       'Thourdirra92', 'Chanastnya43', 'Iskim96', 'Eulolis41',\n",
       "       'Sastydeu50', 'Ilaesudil92', 'Yasur85', 'Aidain51',\n",
       "       'Aerithnuphos61', 'Yalostiphos68', 'Meosridil82', 'Aillyriadru65',\n",
       "       'Sally64', 'Lisim51', 'Isurria36', 'Silaera56', 'Leetirraya83',\n",
       "       'Lirtirra81', 'Eryon48', 'Iana95', 'Sondassan80', 'Chanadar44',\n",
       "       'Eosurdru76', 'Shidai42', 'Aesri53', 'Syally44', 'Jiskadarst60',\n",
       "       'Sondadar26', 'Malarrian73', 'Maluncil97', 'Ilunyon70', 'Yadam35',\n",
       "       'Dyally87', 'Pheosurllorin41', 'Frichaya88', 'Lassadarsda57',\n",
       "       'Marynde90', 'Isri34', 'Assastnya25', 'Ardonmol96',\n",
       "       'Lassirrasda85', 'Chadossa56', 'Poshilsa82', 'Yoishirrala98',\n",
       "       'Sundista37', 'Ilassa51', 'Filurarn35', 'Phaestycal84', 'Irilis75',\n",
       "       'Aeralstical35', 'Chanirrala39', 'Chanirra79', 'Assirra56',\n",
       "       'Seolollo93', 'Iathem87', 'Iasurriacal29', 'Lisast98', 'Filrion59',\n",
       "       'Halaecal66', 'Iskosian40', 'Ilastilis78', 'Seosrim97',\n",
       "       'Farrian71', 'Rithe53', 'Frichossala54', 'Chamjaskya75',\n",
       "       'Quanrion96', 'Tyaelaelis94', 'Quanenrian83', 'Chanirra64',\n",
       "       'Yadaisuir65', 'Syathecal44', 'Arin32', 'Aelaria33', 'Assassa81',\n",
       "       'Filrion83', 'Eoral49', 'Airi27', 'Eurisuru25', 'Liawista80',\n",
       "       'Lisirra58', 'Chamadarsda63', 'Haestyphos66', 'Phaedasurap84',\n",
       "       'Mindimnya67', 'Chadjask85', 'Eustyria89', 'Iskim66', 'Chamast86',\n",
       "       'Lirtassan78', 'Ethrasyon38', 'Quilassa66', 'Lisassasda39',\n",
       "       'Mindilsa60', 'Lalossa38', 'Chamistast30', 'Hariphos58',\n",
       "       'Assilsan72', 'Inasuir29', 'Chanilsasda38', 'Mindesi74',\n",
       "       'Ililsan66', 'Idacal95', 'Aeral68', 'Tyarithn67', 'Asty82',\n",
       "       'Yalaeria91', 'Chadjask77', 'Ealiril69', 'Quaecjask96',\n",
       "       'Firatan58', 'Yarolwen77', 'Tyaelistidru84', 'Yarithrin84',\n",
       "       'Tyaelly53', 'Phiristi62', 'Ililsasya43', 'Aithelis62',\n",
       "       'Undotesta33', 'Aelidru27', 'Chanossanya44', 'Maradarnya40',\n",
       "       'Lisilsa62', 'Saena89', 'Chanilsast61', 'Sundassa93', 'Aidai73',\n",
       "       'Indirrian56', 'Lisassasta50', 'Iduelis31', 'Chanosiaya39',\n",
       "       'Assylla81', 'Aidaira26', 'Eudanu84', 'Chamiman85', 'Tyialisti80',\n",
       "       'Marundi65', 'Eusur90', 'Mindirranya33', 'Phiallylis33', 'Isty55',\n",
       "       'Frichilsa31', 'Chanista95', 'Aellyria80', 'Rastynusuir31',\n",
       "       'Iljask75', 'Lisjaskan36', 'Mindjasksya61', 'Frichirranya75',\n",
       "       'Ilast79', 'Eratiel90', 'Assim27', 'Irith83', 'Ilosian36',\n",
       "       'Iskossasda43', 'Hala31', 'Jiskjask80', 'Aethedru70', 'Yathecal72',\n",
       "       'Sisur91'], dtype=object)"
      ]
     },
     "execution_count": 2,
     "metadata": {},
     "output_type": "execute_result"
    }
   ],
   "source": [
    "purchase_data_df [\"SN\"].unique()\n"
   ]
  },
  {
   "cell_type": "code",
   "execution_count": 3,
   "metadata": {},
   "outputs": [
    {
     "data": {
      "text/plain": [
       "576"
      ]
     },
     "execution_count": 3,
     "metadata": {},
     "output_type": "execute_result"
    }
   ],
   "source": [
    "total_players = purchase_data_df.loc[:, [\"SN\", \"Age\", \"Gender\"]]\n",
    "total_players = purchase_data_df[\"SN\"].drop_duplicates().count()\n",
    "total_players"
   ]
  },
  {
   "cell_type": "code",
   "execution_count": 4,
   "metadata": {},
   "outputs": [
    {
     "data": {
      "text/html": [
       "<div>\n",
       "<style scoped>\n",
       "    .dataframe tbody tr th:only-of-type {\n",
       "        vertical-align: middle;\n",
       "    }\n",
       "\n",
       "    .dataframe tbody tr th {\n",
       "        vertical-align: top;\n",
       "    }\n",
       "\n",
       "    .dataframe thead th {\n",
       "        text-align: right;\n",
       "    }\n",
       "</style>\n",
       "<table border=\"1\" class=\"dataframe\">\n",
       "  <thead>\n",
       "    <tr style=\"text-align: right;\">\n",
       "      <th></th>\n",
       "      <th>Number of Players</th>\n",
       "    </tr>\n",
       "  </thead>\n",
       "  <tbody>\n",
       "    <tr>\n",
       "      <th>0</th>\n",
       "      <td>576</td>\n",
       "    </tr>\n",
       "  </tbody>\n",
       "</table>\n",
       "</div>"
      ],
      "text/plain": [
       "   Number of Players\n",
       "0                576"
      ]
     },
     "execution_count": 4,
     "metadata": {},
     "output_type": "execute_result"
    }
   ],
   "source": [
    "summary_table = pd.DataFrame({\"Number of Players\": [total_players]})\n",
    "summary_table"
   ]
  },
  {
   "cell_type": "markdown",
   "metadata": {},
   "source": [
    "## Purchasing Analysis (Total)"
   ]
  },
  {
   "cell_type": "markdown",
   "metadata": {},
   "source": [
    "* Run basic calculations to obtain number of unique items, average price, etc.\n",
    "\n",
    "\n",
    "* Create a summary data frame to hold the results\n",
    "\n",
    "\n",
    "* Optional: give the displayed data cleaner formatting\n",
    "\n",
    "\n",
    "* Display the summary data frame\n"
   ]
  },
  {
   "cell_type": "code",
   "execution_count": 5,
   "metadata": {
    "scrolled": false
   },
   "outputs": [
    {
     "data": {
      "text/plain": [
       "array([108, 143,  92, 100, 131,  81, 169, 162,  21, 136,  95, 116,   4,\n",
       "       165,  98,  40, 161,  82,  89,  57, 168,  24, 151, 132, 178,  71,\n",
       "        96, 119,  37, 140, 179, 133,  44, 160,  53,  76,  73, 172,   7,\n",
       "        72,   9, 181, 102, 170, 138, 110,  22,  15,  60, 176,  25,  84,\n",
       "        80, 152, 105, 125,  56,  34,   6,  27,  29,  68, 124,  88,  20,\n",
       "        50, 174,  12,  33, 129,  17,  59,  39, 164, 134, 109,  10,  54,\n",
       "        99,  85, 139,  41, 150,  13, 117,  78,  87,   1,  62,  75,  58,\n",
       "        74, 120, 145,   0,   2, 146, 158,   8, 175,  46, 148, 111,   3,\n",
       "        65, 183,  30, 157, 123,   5, 144, 103, 135,  51, 154,  32,  77,\n",
       "        11,  63,  69, 113, 153, 114, 149, 159, 137, 142,  66,  97, 163,\n",
       "       107,  16,  42,  19,  83,  28,  94, 182,  70,  18, 166, 173, 167,\n",
       "       155, 128, 156, 147,  35, 171,  52, 106,  38,  91, 118,  67,  45,\n",
       "        49, 121,  79,  14,  43,  31,  64,  86,  93,  26, 122,  61,  48,\n",
       "       112, 126, 115,  55, 127,  47, 130,  90, 177, 104], dtype=int64)"
      ]
     },
     "execution_count": 5,
     "metadata": {},
     "output_type": "execute_result"
    }
   ],
   "source": [
    "unique = purchase_data_df[\"Item ID\"].unique()\n",
    "unique"
   ]
  },
  {
   "cell_type": "code",
   "execution_count": 6,
   "metadata": {},
   "outputs": [
    {
     "data": {
      "text/plain": [
       "179"
      ]
     },
     "execution_count": 6,
     "metadata": {},
     "output_type": "execute_result"
    }
   ],
   "source": [
    "item_id_count = purchase_data_df [\"Item ID\"].drop_duplicates().count()\n",
    "item_id_count"
   ]
  },
  {
   "cell_type": "code",
   "execution_count": 7,
   "metadata": {},
   "outputs": [
    {
     "data": {
      "text/plain": [
       "3.050987179487176"
      ]
     },
     "execution_count": 7,
     "metadata": {},
     "output_type": "execute_result"
    }
   ],
   "source": [
    "average_price = purchase_data_df[\"Price\"].mean()\n",
    "average_price"
   ]
  },
  {
   "cell_type": "code",
   "execution_count": 8,
   "metadata": {},
   "outputs": [
    {
     "data": {
      "text/plain": [
       "780"
      ]
     },
     "execution_count": 8,
     "metadata": {},
     "output_type": "execute_result"
    }
   ],
   "source": [
    "purchase_id_count = purchase_data_df[\"Purchase ID\"].count()\n",
    "purchase_id_count "
   ]
  },
  {
   "cell_type": "code",
   "execution_count": 9,
   "metadata": {},
   "outputs": [
    {
     "data": {
      "text/plain": [
       "2379.77"
      ]
     },
     "execution_count": 9,
     "metadata": {},
     "output_type": "execute_result"
    }
   ],
   "source": [
    "price_count  = purchase_data_df[\"Price\"].sum()\n",
    "price_count"
   ]
  },
  {
   "cell_type": "code",
   "execution_count": 10,
   "metadata": {},
   "outputs": [
    {
     "data": {
      "text/html": [
       "<div>\n",
       "<style scoped>\n",
       "    .dataframe tbody tr th:only-of-type {\n",
       "        vertical-align: middle;\n",
       "    }\n",
       "\n",
       "    .dataframe tbody tr th {\n",
       "        vertical-align: top;\n",
       "    }\n",
       "\n",
       "    .dataframe thead th {\n",
       "        text-align: right;\n",
       "    }\n",
       "</style>\n",
       "<table border=\"1\" class=\"dataframe\">\n",
       "  <thead>\n",
       "    <tr style=\"text-align: right;\">\n",
       "      <th></th>\n",
       "      <th>Number of Unique Items</th>\n",
       "      <th>Average Price</th>\n",
       "      <th>Number of Purchases</th>\n",
       "      <th>Total Revenue</th>\n",
       "    </tr>\n",
       "  </thead>\n",
       "  <tbody>\n",
       "    <tr>\n",
       "      <th>0</th>\n",
       "      <td>179</td>\n",
       "      <td>3.050987</td>\n",
       "      <td>780</td>\n",
       "      <td>2379.77</td>\n",
       "    </tr>\n",
       "  </tbody>\n",
       "</table>\n",
       "</div>"
      ],
      "text/plain": [
       "   Number of Unique Items  Average Price  Number of Purchases  Total Revenue\n",
       "0                     179       3.050987                  780        2379.77"
      ]
     },
     "execution_count": 10,
     "metadata": {},
     "output_type": "execute_result"
    }
   ],
   "source": [
    "summary_table_df = pd.DataFrame({\"Number of Unique Items\": [item_id_count],\n",
    "                             \"Average Price\":[average_price],\n",
    "                             \"Number of Purchases\":[purchase_id_count],\n",
    "                             \"Total Revenue\":[price_count]})\n",
    "summary_table_df"
   ]
  },
  {
   "cell_type": "code",
   "execution_count": 11,
   "metadata": {},
   "outputs": [
    {
     "data": {
      "text/html": [
       "<div>\n",
       "<style scoped>\n",
       "    .dataframe tbody tr th:only-of-type {\n",
       "        vertical-align: middle;\n",
       "    }\n",
       "\n",
       "    .dataframe tbody tr th {\n",
       "        vertical-align: top;\n",
       "    }\n",
       "\n",
       "    .dataframe thead th {\n",
       "        text-align: right;\n",
       "    }\n",
       "</style>\n",
       "<table border=\"1\" class=\"dataframe\">\n",
       "  <thead>\n",
       "    <tr style=\"text-align: right;\">\n",
       "      <th></th>\n",
       "      <th>Number of Unique Items</th>\n",
       "      <th>Average Price</th>\n",
       "      <th>Number of Purchases</th>\n",
       "      <th>Total Revenue</th>\n",
       "    </tr>\n",
       "  </thead>\n",
       "  <tbody>\n",
       "    <tr>\n",
       "      <th>0</th>\n",
       "      <td>179</td>\n",
       "      <td>$3.05</td>\n",
       "      <td>780</td>\n",
       "      <td>$2,379.77</td>\n",
       "    </tr>\n",
       "  </tbody>\n",
       "</table>\n",
       "</div>"
      ],
      "text/plain": [
       "  Number of Unique Items Average Price Number of Purchases Total Revenue\n",
       "0                    179         $3.05                 780     $2,379.77"
      ]
     },
     "execution_count": 11,
     "metadata": {},
     "output_type": "execute_result"
    }
   ],
   "source": [
    "summary_table_df = summary_table_df.round(2)\n",
    "summary_table_df[\"Number of Unique Items\"] = summary_table_df[\"Number of Unique Items\"].map(\"{:,}\".format)\n",
    "summary_table_df[\"Average Price\"] = summary_table_df[\"Average Price\"].map(\"${:,}\".format)\n",
    "summary_table_df[\"Number of Purchases\"] = summary_table_df[\"Number of Purchases\"].map(\"{:,}\".format)\n",
    "summary_table_df[\"Total Revenue\"] = summary_table_df[\"Total Revenue\"].map(\"${:,}\".format)\n",
    "summary_table_df = summary_table_df.loc[:,[\"Number of Unique Items\", \"Average Price\", \"Number of Purchases\", \"Total Revenue\"]]\n",
    "summary_table_df"
   ]
  },
  {
   "cell_type": "markdown",
   "metadata": {},
   "source": [
    "## Gender Demographics"
   ]
  },
  {
   "cell_type": "markdown",
   "metadata": {},
   "source": [
    "* Percentage and Count of Male Players\n",
    "\n",
    "\n",
    "* Percentage and Count of Female Players\n",
    "\n",
    "\n",
    "* Percentage and Count of Other / Non-Disclosed\n",
    "\n",
    "\n"
   ]
  },
  {
   "cell_type": "code",
   "execution_count": 12,
   "metadata": {},
   "outputs": [
    {
     "data": {
      "text/html": [
       "<div>\n",
       "<style scoped>\n",
       "    .dataframe tbody tr th:only-of-type {\n",
       "        vertical-align: middle;\n",
       "    }\n",
       "\n",
       "    .dataframe tbody tr th {\n",
       "        vertical-align: top;\n",
       "    }\n",
       "\n",
       "    .dataframe thead th {\n",
       "        text-align: right;\n",
       "    }\n",
       "</style>\n",
       "<table border=\"1\" class=\"dataframe\">\n",
       "  <thead>\n",
       "    <tr style=\"text-align: right;\">\n",
       "      <th></th>\n",
       "      <th>Total Count</th>\n",
       "      <th>Percentage of Players</th>\n",
       "    </tr>\n",
       "    <tr>\n",
       "      <th>Gender</th>\n",
       "      <th></th>\n",
       "      <th></th>\n",
       "    </tr>\n",
       "  </thead>\n",
       "  <tbody>\n",
       "    <tr>\n",
       "      <th>Female</th>\n",
       "      <td>81</td>\n",
       "      <td>14.062500</td>\n",
       "    </tr>\n",
       "    <tr>\n",
       "      <th>Male</th>\n",
       "      <td>484</td>\n",
       "      <td>84.027778</td>\n",
       "    </tr>\n",
       "    <tr>\n",
       "      <th>Other / Non-Disclosed</th>\n",
       "      <td>11</td>\n",
       "      <td>1.909722</td>\n",
       "    </tr>\n",
       "  </tbody>\n",
       "</table>\n",
       "</div>"
      ],
      "text/plain": [
       "                       Total Count  Percentage of Players\n",
       "Gender                                                   \n",
       "Female                          81              14.062500\n",
       "Male                           484              84.027778\n",
       "Other / Non-Disclosed           11               1.909722"
      ]
     },
     "execution_count": 12,
     "metadata": {},
     "output_type": "execute_result"
    }
   ],
   "source": [
    "group_players_df = purchase_data_df.groupby([\"Gender\"])\n",
    "player_gender_count = group_players_df[\"SN\"].nunique()\n",
    "percent_all = player_gender_count / total_players * 100\n",
    "gender_summary_table = pd.DataFrame({\"Total Count\": player_gender_count,\n",
    "                                    \"Percentage of Players\": percent_all})\n",
    "gender_summary_table"
   ]
  },
  {
   "cell_type": "code",
   "execution_count": 13,
   "metadata": {},
   "outputs": [
    {
     "data": {
      "text/html": [
       "<div>\n",
       "<style scoped>\n",
       "    .dataframe tbody tr th:only-of-type {\n",
       "        vertical-align: middle;\n",
       "    }\n",
       "\n",
       "    .dataframe tbody tr th {\n",
       "        vertical-align: top;\n",
       "    }\n",
       "\n",
       "    .dataframe thead th {\n",
       "        text-align: right;\n",
       "    }\n",
       "</style>\n",
       "<table border=\"1\" class=\"dataframe\">\n",
       "  <thead>\n",
       "    <tr style=\"text-align: right;\">\n",
       "      <th></th>\n",
       "      <th>Total Count</th>\n",
       "      <th>Percentage of Players</th>\n",
       "    </tr>\n",
       "    <tr>\n",
       "      <th>Gender</th>\n",
       "      <th></th>\n",
       "      <th></th>\n",
       "    </tr>\n",
       "  </thead>\n",
       "  <tbody>\n",
       "    <tr>\n",
       "      <th>Female</th>\n",
       "      <td>81</td>\n",
       "      <td>14.06%</td>\n",
       "    </tr>\n",
       "    <tr>\n",
       "      <th>Male</th>\n",
       "      <td>484</td>\n",
       "      <td>84.03%</td>\n",
       "    </tr>\n",
       "    <tr>\n",
       "      <th>Other / Non-Disclosed</th>\n",
       "      <td>11</td>\n",
       "      <td>1.91%</td>\n",
       "    </tr>\n",
       "  </tbody>\n",
       "</table>\n",
       "</div>"
      ],
      "text/plain": [
       "                      Total Count Percentage of Players\n",
       "Gender                                                 \n",
       "Female                         81                14.06%\n",
       "Male                          484                84.03%\n",
       "Other / Non-Disclosed          11                 1.91%"
      ]
     },
     "execution_count": 13,
     "metadata": {},
     "output_type": "execute_result"
    }
   ],
   "source": [
    "gender_summary_table = gender_summary_table.round(2)\n",
    "gender_summary_table[\"Total Count\"] = gender_summary_table[\"Total Count\"].map(\"{:,}\".format)\n",
    "gender_summary_table[\"Percentage of Players\"] = gender_summary_table[\"Percentage of Players\"].map(\"{:,}%\".format)\n",
    "gender_summary_table"
   ]
  },
  {
   "cell_type": "markdown",
   "metadata": {},
   "source": [
    "\n",
    "## Purchasing Analysis (Gender)"
   ]
  },
  {
   "cell_type": "markdown",
   "metadata": {},
   "source": [
    "* Run basic calculations to obtain purchase count, avg. purchase price, avg. purchase total per person etc. by gender\n",
    "\n",
    "\n",
    "\n",
    "\n",
    "* Create a summary data frame to hold the results\n",
    "\n",
    "\n",
    "* Optional: give the displayed data cleaner formatting\n",
    "\n",
    "\n",
    "* Display the summary data frame"
   ]
  },
  {
   "cell_type": "code",
   "execution_count": 14,
   "metadata": {},
   "outputs": [
    {
     "data": {
      "text/plain": [
       "Gender\n",
       "Female                   113\n",
       "Male                     652\n",
       "Other / Non-Disclosed     15\n",
       "Name: Purchase ID, dtype: int64"
      ]
     },
     "execution_count": 14,
     "metadata": {},
     "output_type": "execute_result"
    }
   ],
   "source": [
    "gender_purchasing_count = purchase_data_df.groupby([\"Gender\"]).count()[\"Purchase ID\"]\n",
    "gender_purchasing_count"
   ]
  },
  {
   "cell_type": "code",
   "execution_count": 15,
   "metadata": {},
   "outputs": [
    {
     "data": {
      "text/plain": [
       "Gender\n",
       "Female                   3.203009\n",
       "Male                     3.017853\n",
       "Other / Non-Disclosed    3.346000\n",
       "Name: Price, dtype: float64"
      ]
     },
     "execution_count": 15,
     "metadata": {},
     "output_type": "execute_result"
    }
   ],
   "source": [
    "avg_purchasing_price = purchase_data_df.groupby([\"Gender\"]).mean()[\"Price\"]\n",
    "avg_purchasing_price"
   ]
  },
  {
   "cell_type": "code",
   "execution_count": 16,
   "metadata": {},
   "outputs": [
    {
     "data": {
      "text/plain": [
       "Gender\n",
       "Female                    361.94\n",
       "Male                     1967.64\n",
       "Other / Non-Disclosed      50.19\n",
       "Name: Price, dtype: float64"
      ]
     },
     "execution_count": 16,
     "metadata": {},
     "output_type": "execute_result"
    }
   ],
   "source": [
    "purchasing_total = purchase_data_df.groupby([\"Gender\"]).sum()[\"Price\"]\n",
    "purchasing_total"
   ]
  },
  {
   "cell_type": "code",
   "execution_count": 17,
   "metadata": {
    "scrolled": true
   },
   "outputs": [
    {
     "data": {
      "text/plain": [
       "Gender\n",
       "Female                   4.468395\n",
       "Male                     4.065372\n",
       "Other / Non-Disclosed    4.562727\n",
       "dtype: float64"
      ]
     },
     "execution_count": 17,
     "metadata": {},
     "output_type": "execute_result"
    }
   ],
   "source": [
    "avg_purchasing_person = purchasing_total / player_gender_count\n",
    "avg_purchasing_person"
   ]
  },
  {
   "cell_type": "code",
   "execution_count": 18,
   "metadata": {
    "scrolled": true
   },
   "outputs": [
    {
     "data": {
      "text/html": [
       "<div>\n",
       "<style scoped>\n",
       "    .dataframe tbody tr th:only-of-type {\n",
       "        vertical-align: middle;\n",
       "    }\n",
       "\n",
       "    .dataframe tbody tr th {\n",
       "        vertical-align: top;\n",
       "    }\n",
       "\n",
       "    .dataframe thead th {\n",
       "        text-align: right;\n",
       "    }\n",
       "</style>\n",
       "<table border=\"1\" class=\"dataframe\">\n",
       "  <thead>\n",
       "    <tr style=\"text-align: right;\">\n",
       "      <th></th>\n",
       "      <th>Purchase Count</th>\n",
       "      <th>Average Purchase Price</th>\n",
       "      <th>Total Purchasing Value</th>\n",
       "      <th>Average Total Purchase per Person</th>\n",
       "    </tr>\n",
       "    <tr>\n",
       "      <th>Gender</th>\n",
       "      <th></th>\n",
       "      <th></th>\n",
       "      <th></th>\n",
       "      <th></th>\n",
       "    </tr>\n",
       "  </thead>\n",
       "  <tbody>\n",
       "    <tr>\n",
       "      <th>Female</th>\n",
       "      <td>113</td>\n",
       "      <td>3.203009</td>\n",
       "      <td>361.94</td>\n",
       "      <td>4.468395</td>\n",
       "    </tr>\n",
       "    <tr>\n",
       "      <th>Male</th>\n",
       "      <td>652</td>\n",
       "      <td>3.017853</td>\n",
       "      <td>1967.64</td>\n",
       "      <td>4.065372</td>\n",
       "    </tr>\n",
       "    <tr>\n",
       "      <th>Other / Non-Disclosed</th>\n",
       "      <td>15</td>\n",
       "      <td>3.346000</td>\n",
       "      <td>50.19</td>\n",
       "      <td>4.562727</td>\n",
       "    </tr>\n",
       "  </tbody>\n",
       "</table>\n",
       "</div>"
      ],
      "text/plain": [
       "                       Purchase Count  Average Purchase Price  \\\n",
       "Gender                                                          \n",
       "Female                            113                3.203009   \n",
       "Male                              652                3.017853   \n",
       "Other / Non-Disclosed              15                3.346000   \n",
       "\n",
       "                       Total Purchasing Value  \\\n",
       "Gender                                          \n",
       "Female                                 361.94   \n",
       "Male                                  1967.64   \n",
       "Other / Non-Disclosed                   50.19   \n",
       "\n",
       "                       Average Total Purchase per Person  \n",
       "Gender                                                    \n",
       "Female                                          4.468395  \n",
       "Male                                            4.065372  \n",
       "Other / Non-Disclosed                           4.562727  "
      ]
     },
     "execution_count": 18,
     "metadata": {},
     "output_type": "execute_result"
    }
   ],
   "source": [
    "purchasing_analysis = pd.DataFrame({\"Purchase Count\":gender_purchasing_count,\n",
    "                                   \"Average Purchase Price\":avg_purchasing_price,\n",
    "                                   \"Total Purchasing Value\":purchasing_total,\n",
    "                                   \"Average Total Purchase per Person\":avg_purchasing_person})\n",
    "purchasing_analysis"
   ]
  },
  {
   "cell_type": "code",
   "execution_count": 19,
   "metadata": {},
   "outputs": [
    {
     "data": {
      "text/html": [
       "<div>\n",
       "<style scoped>\n",
       "    .dataframe tbody tr th:only-of-type {\n",
       "        vertical-align: middle;\n",
       "    }\n",
       "\n",
       "    .dataframe tbody tr th {\n",
       "        vertical-align: top;\n",
       "    }\n",
       "\n",
       "    .dataframe thead th {\n",
       "        text-align: right;\n",
       "    }\n",
       "</style>\n",
       "<table border=\"1\" class=\"dataframe\">\n",
       "  <thead>\n",
       "    <tr style=\"text-align: right;\">\n",
       "      <th></th>\n",
       "      <th>Purchase Count</th>\n",
       "      <th>Average Purchase Price</th>\n",
       "      <th>Total Purchasing Value</th>\n",
       "      <th>Average Total Purchase per Person</th>\n",
       "    </tr>\n",
       "    <tr>\n",
       "      <th>Gender</th>\n",
       "      <th></th>\n",
       "      <th></th>\n",
       "      <th></th>\n",
       "      <th></th>\n",
       "    </tr>\n",
       "  </thead>\n",
       "  <tbody>\n",
       "    <tr>\n",
       "      <th>Female</th>\n",
       "      <td>113</td>\n",
       "      <td>$3.2</td>\n",
       "      <td>$361.94</td>\n",
       "      <td>$4.47</td>\n",
       "    </tr>\n",
       "    <tr>\n",
       "      <th>Male</th>\n",
       "      <td>652</td>\n",
       "      <td>$3.02</td>\n",
       "      <td>$1,967.64</td>\n",
       "      <td>$4.07</td>\n",
       "    </tr>\n",
       "    <tr>\n",
       "      <th>Other / Non-Disclosed</th>\n",
       "      <td>15</td>\n",
       "      <td>$3.35</td>\n",
       "      <td>$50.19</td>\n",
       "      <td>$4.56</td>\n",
       "    </tr>\n",
       "  </tbody>\n",
       "</table>\n",
       "</div>"
      ],
      "text/plain": [
       "                      Purchase Count Average Purchase Price  \\\n",
       "Gender                                                        \n",
       "Female                           113                   $3.2   \n",
       "Male                             652                  $3.02   \n",
       "Other / Non-Disclosed             15                  $3.35   \n",
       "\n",
       "                      Total Purchasing Value Average Total Purchase per Person  \n",
       "Gender                                                                          \n",
       "Female                               $361.94                             $4.47  \n",
       "Male                               $1,967.64                             $4.07  \n",
       "Other / Non-Disclosed                 $50.19                             $4.56  "
      ]
     },
     "execution_count": 19,
     "metadata": {},
     "output_type": "execute_result"
    }
   ],
   "source": [
    "purchasing_analysis = purchasing_analysis.round(2)\n",
    "purchasing_analysis[\"Purchase Count\"] = purchasing_analysis[\"Purchase Count\"].map(\"{:,}\".format)\n",
    "purchasing_analysis[\"Average Purchase Price\"] = purchasing_analysis[\"Average Purchase Price\"].map(\"${:,}\".format)\n",
    "purchasing_analysis[\"Total Purchasing Value\"] = purchasing_analysis[\"Total Purchasing Value\"].map(\"${:,}\".format)\n",
    "purchasing_analysis[\"Average Total Purchase per Person\"] = purchasing_analysis[\"Average Total Purchase per Person\"].map(\"${:,}\".format)\n",
    "purchasing_analysis"
   ]
  },
  {
   "cell_type": "markdown",
   "metadata": {},
   "source": [
    "## Age Demographics"
   ]
  },
  {
   "cell_type": "markdown",
   "metadata": {},
   "source": [
    "* Establish bins for ages\n",
    "\n",
    "\n",
    "* Categorize the existing players using the age bins. Hint: use pd.cut()\n",
    "\n",
    "\n",
    "* Calculate the numbers and percentages by age group\n",
    "\n",
    "\n",
    "* Create a summary data frame to hold the results\n",
    "\n",
    "\n",
    "* Optional: round the percentage column to two decimal points\n",
    "\n",
    "\n",
    "* Display Age Demographics Table\n"
   ]
  },
  {
   "cell_type": "code",
   "execution_count": 20,
   "metadata": {},
   "outputs": [
    {
     "data": {
      "text/plain": [
       "7"
      ]
     },
     "execution_count": 20,
     "metadata": {},
     "output_type": "execute_result"
    }
   ],
   "source": [
    "youngest = purchase_data_df[\"Age\"].min()\n",
    "youngest"
   ]
  },
  {
   "cell_type": "code",
   "execution_count": 21,
   "metadata": {},
   "outputs": [
    {
     "data": {
      "text/plain": [
       "45"
      ]
     },
     "execution_count": 21,
     "metadata": {},
     "output_type": "execute_result"
    }
   ],
   "source": [
    "oldest = purchase_data_df[\"Age\"].max()\n",
    "oldest"
   ]
  },
  {
   "cell_type": "code",
   "execution_count": 22,
   "metadata": {},
   "outputs": [
    {
     "data": {
      "text/plain": [
       "['<10', '10-14', '15-19', '20-24', '25-29', '30-34', '35-39', '40+']"
      ]
     },
     "execution_count": 22,
     "metadata": {},
     "output_type": "execute_result"
    }
   ],
   "source": [
    "bins = [ 5, 9.9, 14.9, 19.9, 24.9, 29.9, 34.9, 39.9, 44.9]\n",
    "range_labels = [\"<10\",\"10-14\",\"15-19\",\"20-24\",\"25-29\",\"30-34\",\"35-39\",\"40+\"]\n",
    "range_labels"
   ]
  },
  {
   "cell_type": "code",
   "execution_count": 23,
   "metadata": {},
   "outputs": [
    {
     "data": {
      "text/plain": [
       "0      20-24\n",
       "1        40+\n",
       "2      20-24\n",
       "3      20-24\n",
       "4      20-24\n",
       "       ...  \n",
       "775    20-24\n",
       "776    20-24\n",
       "777    20-24\n",
       "778      <10\n",
       "779    20-24\n",
       "Name: Age Ranges, Length: 780, dtype: category\n",
       "Categories (8, object): [<10 < 10-14 < 15-19 < 20-24 < 25-29 < 30-34 < 35-39 < 40+]"
      ]
     },
     "execution_count": 23,
     "metadata": {},
     "output_type": "execute_result"
    }
   ],
   "source": [
    "purchase_data_df[\"Age Ranges\"] = pd.cut(purchase_data_df[\"Age\"], bins, labels = range_labels)\n",
    "purchase_data_df[\"Age Ranges\"]"
   ]
  },
  {
   "cell_type": "code",
   "execution_count": 24,
   "metadata": {},
   "outputs": [
    {
     "data": {
      "text/plain": [
       "Age Ranges\n",
       "<10       17\n",
       "10-14     22\n",
       "15-19    107\n",
       "20-24    258\n",
       "25-29     77\n",
       "30-34     52\n",
       "35-39     31\n",
       "40+       11\n",
       "Name: SN, dtype: int64"
      ]
     },
     "execution_count": 24,
     "metadata": {},
     "output_type": "execute_result"
    }
   ],
   "source": [
    "age_group_df = purchase_data_df.groupby([\"Age Ranges\"])\n",
    "count_age_group_df = age_group_df[\"SN\"].nunique()\n",
    "count_age_group_df"
   ]
  },
  {
   "cell_type": "code",
   "execution_count": 25,
   "metadata": {},
   "outputs": [
    {
     "data": {
      "text/plain": [
       "Age Ranges\n",
       "<10       2.951389\n",
       "10-14     3.819444\n",
       "15-19    18.576389\n",
       "20-24    44.791667\n",
       "25-29    13.368056\n",
       "30-34     9.027778\n",
       "35-39     5.381944\n",
       "40+       1.909722\n",
       "Name: SN, dtype: float64"
      ]
     },
     "execution_count": 25,
     "metadata": {},
     "output_type": "execute_result"
    }
   ],
   "source": [
    "percent_age_group_df = count_age_group_df / total_players *100\n",
    "percent_age_group_df"
   ]
  },
  {
   "cell_type": "code",
   "execution_count": 29,
   "metadata": {},
   "outputs": [
    {
     "data": {
      "text/html": [
       "<div>\n",
       "<style scoped>\n",
       "    .dataframe tbody tr th:only-of-type {\n",
       "        vertical-align: middle;\n",
       "    }\n",
       "\n",
       "    .dataframe tbody tr th {\n",
       "        vertical-align: top;\n",
       "    }\n",
       "\n",
       "    .dataframe thead th {\n",
       "        text-align: right;\n",
       "    }\n",
       "</style>\n",
       "<table border=\"1\" class=\"dataframe\">\n",
       "  <thead>\n",
       "    <tr style=\"text-align: right;\">\n",
       "      <th></th>\n",
       "      <th>Total Count</th>\n",
       "      <th>Percentage of Players</th>\n",
       "    </tr>\n",
       "    <tr>\n",
       "      <th>Age Ranges</th>\n",
       "      <th></th>\n",
       "      <th></th>\n",
       "    </tr>\n",
       "  </thead>\n",
       "  <tbody>\n",
       "    <tr>\n",
       "      <th>&lt;10</th>\n",
       "      <td>17</td>\n",
       "      <td>2.951389</td>\n",
       "    </tr>\n",
       "    <tr>\n",
       "      <th>10-14</th>\n",
       "      <td>22</td>\n",
       "      <td>3.819444</td>\n",
       "    </tr>\n",
       "    <tr>\n",
       "      <th>15-19</th>\n",
       "      <td>107</td>\n",
       "      <td>18.576389</td>\n",
       "    </tr>\n",
       "    <tr>\n",
       "      <th>20-24</th>\n",
       "      <td>258</td>\n",
       "      <td>44.791667</td>\n",
       "    </tr>\n",
       "    <tr>\n",
       "      <th>25-29</th>\n",
       "      <td>77</td>\n",
       "      <td>13.368056</td>\n",
       "    </tr>\n",
       "    <tr>\n",
       "      <th>30-34</th>\n",
       "      <td>52</td>\n",
       "      <td>9.027778</td>\n",
       "    </tr>\n",
       "    <tr>\n",
       "      <th>35-39</th>\n",
       "      <td>31</td>\n",
       "      <td>5.381944</td>\n",
       "    </tr>\n",
       "    <tr>\n",
       "      <th>40+</th>\n",
       "      <td>11</td>\n",
       "      <td>1.909722</td>\n",
       "    </tr>\n",
       "  </tbody>\n",
       "</table>\n",
       "</div>"
      ],
      "text/plain": [
       "            Total Count  Percentage of Players\n",
       "Age Ranges                                    \n",
       "<10                  17               2.951389\n",
       "10-14                22               3.819444\n",
       "15-19               107              18.576389\n",
       "20-24               258              44.791667\n",
       "25-29                77              13.368056\n",
       "30-34                52               9.027778\n",
       "35-39                31               5.381944\n",
       "40+                  11               1.909722"
      ]
     },
     "execution_count": 29,
     "metadata": {},
     "output_type": "execute_result"
    }
   ],
   "source": [
    "age_demographics_df = pd.DataFrame({\"Total Count\": count_age_group_df,\n",
    "                                   \"Percentage of Players\": percent_age_group_df})\n",
    "age_demographics_df"
   ]
  },
  {
   "cell_type": "code",
   "execution_count": 30,
   "metadata": {},
   "outputs": [
    {
     "data": {
      "text/html": [
       "<div>\n",
       "<style scoped>\n",
       "    .dataframe tbody tr th:only-of-type {\n",
       "        vertical-align: middle;\n",
       "    }\n",
       "\n",
       "    .dataframe tbody tr th {\n",
       "        vertical-align: top;\n",
       "    }\n",
       "\n",
       "    .dataframe thead th {\n",
       "        text-align: right;\n",
       "    }\n",
       "</style>\n",
       "<table border=\"1\" class=\"dataframe\">\n",
       "  <thead>\n",
       "    <tr style=\"text-align: right;\">\n",
       "      <th></th>\n",
       "      <th>Total Count</th>\n",
       "      <th>Percentage of Players</th>\n",
       "    </tr>\n",
       "    <tr>\n",
       "      <th>Age Ranges</th>\n",
       "      <th></th>\n",
       "      <th></th>\n",
       "    </tr>\n",
       "  </thead>\n",
       "  <tbody>\n",
       "    <tr>\n",
       "      <th>&lt;10</th>\n",
       "      <td>17</td>\n",
       "      <td>2.95%</td>\n",
       "    </tr>\n",
       "    <tr>\n",
       "      <th>10-14</th>\n",
       "      <td>22</td>\n",
       "      <td>3.82%</td>\n",
       "    </tr>\n",
       "    <tr>\n",
       "      <th>15-19</th>\n",
       "      <td>107</td>\n",
       "      <td>18.58%</td>\n",
       "    </tr>\n",
       "    <tr>\n",
       "      <th>20-24</th>\n",
       "      <td>258</td>\n",
       "      <td>44.79%</td>\n",
       "    </tr>\n",
       "    <tr>\n",
       "      <th>25-29</th>\n",
       "      <td>77</td>\n",
       "      <td>13.37%</td>\n",
       "    </tr>\n",
       "    <tr>\n",
       "      <th>30-34</th>\n",
       "      <td>52</td>\n",
       "      <td>9.03%</td>\n",
       "    </tr>\n",
       "    <tr>\n",
       "      <th>35-39</th>\n",
       "      <td>31</td>\n",
       "      <td>5.38%</td>\n",
       "    </tr>\n",
       "    <tr>\n",
       "      <th>40+</th>\n",
       "      <td>11</td>\n",
       "      <td>1.91%</td>\n",
       "    </tr>\n",
       "  </tbody>\n",
       "</table>\n",
       "</div>"
      ],
      "text/plain": [
       "            Total Count Percentage of Players\n",
       "Age Ranges                                   \n",
       "<10                  17                 2.95%\n",
       "10-14                22                 3.82%\n",
       "15-19               107                18.58%\n",
       "20-24               258                44.79%\n",
       "25-29                77                13.37%\n",
       "30-34                52                 9.03%\n",
       "35-39                31                 5.38%\n",
       "40+                  11                 1.91%"
      ]
     },
     "execution_count": 30,
     "metadata": {},
     "output_type": "execute_result"
    }
   ],
   "source": [
    "age_demographics_df = age_demographics_df.round(2)\n",
    "age_demographics_df[\"Percentage of Players\"] = age_demographics_df[\"Percentage of Players\"].map(\"{:,}%\".format)\n",
    "age_demographics_df"
   ]
  },
  {
   "cell_type": "markdown",
   "metadata": {},
   "source": [
    "## Purchasing Analysis (Age)"
   ]
  },
  {
   "cell_type": "markdown",
   "metadata": {},
   "source": [
    "* Bin the purchase_data data frame by age\n",
    "\n",
    "\n",
    "* Run basic calculations to obtain purchase count, avg. purchase price, avg. purchase total per person etc. in the table below\n",
    "\n",
    "\n",
    "* Create a summary data frame to hold the results\n",
    "\n",
    "\n",
    "* Optional: give the displayed data cleaner formatting\n",
    "\n",
    "\n",
    "* Display the summary data frame"
   ]
  },
  {
   "cell_type": "code",
   "execution_count": 31,
   "metadata": {},
   "outputs": [
    {
     "data": {
      "text/plain": [
       "Age Ranges\n",
       "<10       23\n",
       "10-14     28\n",
       "15-19    136\n",
       "20-24    365\n",
       "25-29    101\n",
       "30-34     73\n",
       "35-39     41\n",
       "40+       12\n",
       "Name: Purchase ID, dtype: int64"
      ]
     },
     "execution_count": 31,
     "metadata": {},
     "output_type": "execute_result"
    }
   ],
   "source": [
    "purchase_data_age = age_group_df[\"Purchase ID\"].count()\n",
    "purchase_data_age"
   ]
  },
  {
   "cell_type": "code",
   "execution_count": 33,
   "metadata": {},
   "outputs": [
    {
     "data": {
      "text/plain": [
       "Age Ranges\n",
       "<10      3.353478\n",
       "10-14    2.956429\n",
       "15-19    3.035956\n",
       "20-24    3.052219\n",
       "25-29    2.900990\n",
       "30-34    2.931507\n",
       "35-39    3.601707\n",
       "40+      3.045000\n",
       "Name: Price, dtype: float64"
      ]
     },
     "execution_count": 33,
     "metadata": {},
     "output_type": "execute_result"
    }
   ],
   "source": [
    "avg_purchase_price_age = age_group_df[\"Price\"].mean()\n",
    "avg_purchase_price_age"
   ]
  },
  {
   "cell_type": "code",
   "execution_count": 34,
   "metadata": {},
   "outputs": [
    {
     "data": {
      "text/plain": [
       "Age Ranges\n",
       "<10        77.13\n",
       "10-14      82.78\n",
       "15-19     412.89\n",
       "20-24    1114.06\n",
       "25-29     293.00\n",
       "30-34     214.00\n",
       "35-39     147.67\n",
       "40+        36.54\n",
       "Name: Price, dtype: float64"
      ]
     },
     "execution_count": 34,
     "metadata": {},
     "output_type": "execute_result"
    }
   ],
   "source": [
    "total_price_age = age_group_df[\"Price\"].sum()\n",
    "total_price_age"
   ]
  },
  {
   "cell_type": "code",
   "execution_count": 38,
   "metadata": {},
   "outputs": [
    {
     "data": {
      "text/plain": [
       "Age Ranges\n",
       "<10      4.537059\n",
       "10-14    3.762727\n",
       "15-19    3.858785\n",
       "20-24    4.318062\n",
       "25-29    3.805195\n",
       "30-34    4.115385\n",
       "35-39    4.763548\n",
       "40+      3.321818\n",
       "dtype: float64"
      ]
     },
     "execution_count": 38,
     "metadata": {},
     "output_type": "execute_result"
    }
   ],
   "source": [
    "avg_spent_age = total_price_age / count_age_group_df\n",
    "avg_spent_age"
   ]
  },
  {
   "cell_type": "code",
   "execution_count": 39,
   "metadata": {},
   "outputs": [
    {
     "data": {
      "text/html": [
       "<div>\n",
       "<style scoped>\n",
       "    .dataframe tbody tr th:only-of-type {\n",
       "        vertical-align: middle;\n",
       "    }\n",
       "\n",
       "    .dataframe tbody tr th {\n",
       "        vertical-align: top;\n",
       "    }\n",
       "\n",
       "    .dataframe thead th {\n",
       "        text-align: right;\n",
       "    }\n",
       "</style>\n",
       "<table border=\"1\" class=\"dataframe\">\n",
       "  <thead>\n",
       "    <tr style=\"text-align: right;\">\n",
       "      <th></th>\n",
       "      <th>Purchase Count</th>\n",
       "      <th>Average Purchase Price</th>\n",
       "      <th>Total Purchase Value</th>\n",
       "      <th>Avg Total Purchase per Person</th>\n",
       "    </tr>\n",
       "    <tr>\n",
       "      <th>Age Ranges</th>\n",
       "      <th></th>\n",
       "      <th></th>\n",
       "      <th></th>\n",
       "      <th></th>\n",
       "    </tr>\n",
       "  </thead>\n",
       "  <tbody>\n",
       "    <tr>\n",
       "      <th>&lt;10</th>\n",
       "      <td>23</td>\n",
       "      <td>3.353478</td>\n",
       "      <td>77.13</td>\n",
       "      <td>4.537059</td>\n",
       "    </tr>\n",
       "    <tr>\n",
       "      <th>10-14</th>\n",
       "      <td>28</td>\n",
       "      <td>2.956429</td>\n",
       "      <td>82.78</td>\n",
       "      <td>3.762727</td>\n",
       "    </tr>\n",
       "    <tr>\n",
       "      <th>15-19</th>\n",
       "      <td>136</td>\n",
       "      <td>3.035956</td>\n",
       "      <td>412.89</td>\n",
       "      <td>3.858785</td>\n",
       "    </tr>\n",
       "    <tr>\n",
       "      <th>20-24</th>\n",
       "      <td>365</td>\n",
       "      <td>3.052219</td>\n",
       "      <td>1114.06</td>\n",
       "      <td>4.318062</td>\n",
       "    </tr>\n",
       "    <tr>\n",
       "      <th>25-29</th>\n",
       "      <td>101</td>\n",
       "      <td>2.900990</td>\n",
       "      <td>293.00</td>\n",
       "      <td>3.805195</td>\n",
       "    </tr>\n",
       "    <tr>\n",
       "      <th>30-34</th>\n",
       "      <td>73</td>\n",
       "      <td>2.931507</td>\n",
       "      <td>214.00</td>\n",
       "      <td>4.115385</td>\n",
       "    </tr>\n",
       "    <tr>\n",
       "      <th>35-39</th>\n",
       "      <td>41</td>\n",
       "      <td>3.601707</td>\n",
       "      <td>147.67</td>\n",
       "      <td>4.763548</td>\n",
       "    </tr>\n",
       "    <tr>\n",
       "      <th>40+</th>\n",
       "      <td>12</td>\n",
       "      <td>3.045000</td>\n",
       "      <td>36.54</td>\n",
       "      <td>3.321818</td>\n",
       "    </tr>\n",
       "  </tbody>\n",
       "</table>\n",
       "</div>"
      ],
      "text/plain": [
       "            Purchase Count  Average Purchase Price  Total Purchase Value  \\\n",
       "Age Ranges                                                                 \n",
       "<10                     23                3.353478                 77.13   \n",
       "10-14                   28                2.956429                 82.78   \n",
       "15-19                  136                3.035956                412.89   \n",
       "20-24                  365                3.052219               1114.06   \n",
       "25-29                  101                2.900990                293.00   \n",
       "30-34                   73                2.931507                214.00   \n",
       "35-39                   41                3.601707                147.67   \n",
       "40+                     12                3.045000                 36.54   \n",
       "\n",
       "            Avg Total Purchase per Person  \n",
       "Age Ranges                                 \n",
       "<10                              4.537059  \n",
       "10-14                            3.762727  \n",
       "15-19                            3.858785  \n",
       "20-24                            4.318062  \n",
       "25-29                            3.805195  \n",
       "30-34                            4.115385  \n",
       "35-39                            4.763548  \n",
       "40+                              3.321818  "
      ]
     },
     "execution_count": 39,
     "metadata": {},
     "output_type": "execute_result"
    }
   ],
   "source": [
    "purchase_analysis_age = pd.DataFrame({\"Purchase Count\": purchase_data_age,\n",
    "                                    \"Average Purchase Price\": avg_purchase_price_age,\n",
    "                                    \"Total Purchase Value\":total_price_age,\n",
    "                                    \"Avg Total Purchase per Person\":avg_spent_age})\n",
    "purchase_analysis_age"
   ]
  },
  {
   "cell_type": "code",
   "execution_count": 40,
   "metadata": {},
   "outputs": [
    {
     "data": {
      "text/html": [
       "<div>\n",
       "<style scoped>\n",
       "    .dataframe tbody tr th:only-of-type {\n",
       "        vertical-align: middle;\n",
       "    }\n",
       "\n",
       "    .dataframe tbody tr th {\n",
       "        vertical-align: top;\n",
       "    }\n",
       "\n",
       "    .dataframe thead th {\n",
       "        text-align: right;\n",
       "    }\n",
       "</style>\n",
       "<table border=\"1\" class=\"dataframe\">\n",
       "  <thead>\n",
       "    <tr style=\"text-align: right;\">\n",
       "      <th></th>\n",
       "      <th>Purchase Count</th>\n",
       "      <th>Average Purchase Price</th>\n",
       "      <th>Total Purchase Value</th>\n",
       "      <th>Avg Total Purchase per Person</th>\n",
       "    </tr>\n",
       "    <tr>\n",
       "      <th>Age Ranges</th>\n",
       "      <th></th>\n",
       "      <th></th>\n",
       "      <th></th>\n",
       "      <th></th>\n",
       "    </tr>\n",
       "  </thead>\n",
       "  <tbody>\n",
       "    <tr>\n",
       "      <th>&lt;10</th>\n",
       "      <td>23</td>\n",
       "      <td>$3.35</td>\n",
       "      <td>$77.13</td>\n",
       "      <td>$4.54</td>\n",
       "    </tr>\n",
       "    <tr>\n",
       "      <th>10-14</th>\n",
       "      <td>28</td>\n",
       "      <td>$2.96</td>\n",
       "      <td>$82.78</td>\n",
       "      <td>$3.76</td>\n",
       "    </tr>\n",
       "    <tr>\n",
       "      <th>15-19</th>\n",
       "      <td>136</td>\n",
       "      <td>$3.04</td>\n",
       "      <td>$412.89</td>\n",
       "      <td>$3.86</td>\n",
       "    </tr>\n",
       "    <tr>\n",
       "      <th>20-24</th>\n",
       "      <td>365</td>\n",
       "      <td>$3.05</td>\n",
       "      <td>$1,114.06</td>\n",
       "      <td>$4.32</td>\n",
       "    </tr>\n",
       "    <tr>\n",
       "      <th>25-29</th>\n",
       "      <td>101</td>\n",
       "      <td>$2.9</td>\n",
       "      <td>$293.0</td>\n",
       "      <td>$3.81</td>\n",
       "    </tr>\n",
       "    <tr>\n",
       "      <th>30-34</th>\n",
       "      <td>73</td>\n",
       "      <td>$2.93</td>\n",
       "      <td>$214.0</td>\n",
       "      <td>$4.12</td>\n",
       "    </tr>\n",
       "    <tr>\n",
       "      <th>35-39</th>\n",
       "      <td>41</td>\n",
       "      <td>$3.6</td>\n",
       "      <td>$147.67</td>\n",
       "      <td>$4.76</td>\n",
       "    </tr>\n",
       "    <tr>\n",
       "      <th>40+</th>\n",
       "      <td>12</td>\n",
       "      <td>$3.04</td>\n",
       "      <td>$36.54</td>\n",
       "      <td>$3.32</td>\n",
       "    </tr>\n",
       "  </tbody>\n",
       "</table>\n",
       "</div>"
      ],
      "text/plain": [
       "           Purchase Count Average Purchase Price Total Purchase Value  \\\n",
       "Age Ranges                                                              \n",
       "<10                    23                  $3.35               $77.13   \n",
       "10-14                  28                  $2.96               $82.78   \n",
       "15-19                 136                  $3.04              $412.89   \n",
       "20-24                 365                  $3.05            $1,114.06   \n",
       "25-29                 101                   $2.9               $293.0   \n",
       "30-34                  73                  $2.93               $214.0   \n",
       "35-39                  41                   $3.6              $147.67   \n",
       "40+                    12                  $3.04               $36.54   \n",
       "\n",
       "           Avg Total Purchase per Person  \n",
       "Age Ranges                                \n",
       "<10                                $4.54  \n",
       "10-14                              $3.76  \n",
       "15-19                              $3.86  \n",
       "20-24                              $4.32  \n",
       "25-29                              $3.81  \n",
       "30-34                              $4.12  \n",
       "35-39                              $4.76  \n",
       "40+                                $3.32  "
      ]
     },
     "execution_count": 40,
     "metadata": {},
     "output_type": "execute_result"
    }
   ],
   "source": [
    "purchase_analysis_age = purchase_analysis_age.round(2)\n",
    "purchase_analysis_age[\"Purchase Count\"] = purchase_analysis_age[\"Purchase Count\"].map(\"{:,}\".format)\n",
    "purchase_analysis_age[\"Average Purchase Price\"] = purchase_analysis_age[\"Average Purchase Price\"].map(\"${:,}\".format)\n",
    "purchase_analysis_age[\"Total Purchase Value\"] = purchase_analysis_age[\"Total Purchase Value\"].map(\"${:,}\".format)\n",
    "purchase_analysis_age[\"Avg Total Purchase per Person\"] = purchase_analysis_age[\"Avg Total Purchase per Person\"].map(\"${:,}\".format)\n",
    "purchase_analysis_age\n",
    "                                                                                                  \n",
    "                                                                                                 "
   ]
  },
  {
   "cell_type": "markdown",
   "metadata": {},
   "source": [
    "## Top Spenders"
   ]
  },
  {
   "cell_type": "markdown",
   "metadata": {},
   "source": [
    "* Run basic calculations to obtain the results in the table below\n",
    "\n",
    "\n",
    "* Create a summary data frame to hold the results\n",
    "\n",
    "\n",
    "* Sort the total purchase value column in descending order\n",
    "\n",
    "\n",
    "* Optional: give the displayed data cleaner formatting\n",
    "\n",
    "\n",
    "* Display a preview of the summary data frame\n",
    "\n"
   ]
  },
  {
   "cell_type": "code",
   "execution_count": 49,
   "metadata": {},
   "outputs": [
    {
     "data": {
      "text/plain": [
       "SN\n",
       "Adairialis76    2.28\n",
       "Adastirin33     4.48\n",
       "Aeda94          4.91\n",
       "Aela59          4.32\n",
       "Aelaria33       1.79\n",
       "Name: Price, dtype: float64"
      ]
     },
     "execution_count": 49,
     "metadata": {},
     "output_type": "execute_result"
    }
   ],
   "source": [
    "group_names = purchase_data_df.groupby([\"SN\"])\n",
    "purchase_count = group_names[\"Price\"].sum\n",
    "purchase_count_spender = group_names[\"Purchase ID\"].count()\n",
    "avg_purchase_spender = group_names[\"Price\"].mean()\n",
    "avg_purchase_spender.head()"
   ]
  },
  {
   "cell_type": "markdown",
   "metadata": {},
   "source": [
    "## Most Popular Items"
   ]
  },
  {
   "cell_type": "markdown",
   "metadata": {},
   "source": [
    "* Retrieve the Item ID, Item Name, and Item Price columns\n",
    "\n",
    "\n",
    "* Group by Item ID and Item Name. Perform calculations to obtain purchase count, item price, and total purchase value\n",
    "\n",
    "\n",
    "* Create a summary data frame to hold the results\n",
    "\n",
    "\n",
    "* Sort the purchase count column in descending order\n",
    "\n",
    "\n",
    "* Optional: give the displayed data cleaner formatting\n",
    "\n",
    "\n",
    "* Display a preview of the summary data frame\n",
    "\n"
   ]
  },
  {
   "cell_type": "code",
   "execution_count": null,
   "metadata": {},
   "outputs": [],
   "source": []
  },
  {
   "cell_type": "markdown",
   "metadata": {},
   "source": [
    "## Most Profitable Items"
   ]
  },
  {
   "cell_type": "markdown",
   "metadata": {},
   "source": [
    "* Sort the above table by total purchase value in descending order\n",
    "\n",
    "\n",
    "* Optional: give the displayed data cleaner formatting\n",
    "\n",
    "\n",
    "* Display a preview of the data frame\n",
    "\n"
   ]
  },
  {
   "cell_type": "code",
   "execution_count": null,
   "metadata": {
    "scrolled": true
   },
   "outputs": [],
   "source": []
  }
 ],
 "metadata": {
  "anaconda-cloud": {},
  "kernel_info": {
   "name": "python3"
  },
  "kernelspec": {
   "display_name": "Python 3",
   "language": "python",
   "name": "python3"
  },
  "language_info": {
   "codemirror_mode": {
    "name": "ipython",
    "version": 3
   },
   "file_extension": ".py",
   "mimetype": "text/x-python",
   "name": "python",
   "nbconvert_exporter": "python",
   "pygments_lexer": "ipython3",
   "version": "3.7.6"
  },
  "latex_envs": {
   "LaTeX_envs_menu_present": true,
   "autoclose": false,
   "autocomplete": true,
   "bibliofile": "biblio.bib",
   "cite_by": "apalike",
   "current_citInitial": 1,
   "eqLabelWithNumbers": true,
   "eqNumInitial": 1,
   "hotkeys": {
    "equation": "Ctrl-E",
    "itemize": "Ctrl-I"
   },
   "labels_anchors": false,
   "latex_user_defs": false,
   "report_style_numbering": false,
   "user_envs_cfg": false
  },
  "nteract": {
   "version": "0.2.0"
  }
 },
 "nbformat": 4,
 "nbformat_minor": 2
}
